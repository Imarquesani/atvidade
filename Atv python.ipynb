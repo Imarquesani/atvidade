{
 "cells": [
  {
   "cell_type": "code",
   "execution_count": 10,
   "id": "9c3b9927",
   "metadata": {},
   "outputs": [
    {
     "name": "stdout",
     "output_type": "stream",
     "text": [
      "\n",
      "Método read():\n",
      "\n",
      "Ola mundo, primeiro teste.\n",
      "hello word\n",
      "dell\n",
      "\n",
      "Método readline():\n",
      "\n",
      "Ola mundo, primeiro teste.\n",
      "\n",
      "hello word\n",
      "\n",
      "\n",
      "Método readline():\n",
      "\n",
      "['Ola mundo, primeiro teste.\\n', 'hello word\\n', 'dell']\n"
     ]
    }
   ],
   "source": [
    "manipulador = open('teste.txt','r')\n",
    "\n",
    "print('\\nMétodo read():\\n')\n",
    "print(manipulador.read())\n",
    "manipulador.seek(0)\n",
    "\n",
    "print('\\nMétodo readline():\\n')\n",
    "print(manipulador.readline())\n",
    "print(manipulador.readline())\n",
    "manipulador.seek(0)\n",
    "\n",
    "print('\\nMétodo readline():\\n')\n",
    "print(manipulador.readlines())\n",
    "\n",
    "manipulador.close()\n",
    "\n",
    "\n"
   ]
  },
  {
   "cell_type": "code",
   "execution_count": 9,
   "id": "4af3d70b",
   "metadata": {},
   "outputs": [
    {
     "name": "stdout",
     "output_type": "stream",
     "text": [
      "Ola mundo, primeiro teste.\n",
      "\n",
      "hello word\n",
      "\n",
      "dell\n"
     ]
    }
   ],
   "source": [
    "manipulador = open('teste.txt','r')\n",
    "for linha in manipulador:\n",
    "    print(linha)\n",
    "manipulador.close()"
   ]
  },
  {
   "cell_type": "code",
   "execution_count": 11,
   "id": "b1ab7f90",
   "metadata": {},
   "outputs": [
    {
     "name": "stdout",
     "output_type": "stream",
     "text": [
      "Ola mundo, primeiro teste.\n",
      "hello word\n",
      "dell\n"
     ]
    }
   ],
   "source": [
    "# Eliminar linhas em branco\n",
    "manipulador = open('teste.txt','r')\n",
    "for linha in manipulador:\n",
    "    linha = linha.rstrip()\n",
    "    print(linha)\n",
    "manipulador.close()"
   ]
  },
  {
   "cell_type": "code",
   "execution_count": 13,
   "id": "367b131c",
   "metadata": {},
   "outputs": [
    {
     "name": "stdout",
     "output_type": "stream",
     "text": [
      "\n",
      "Contando o números de linhas no arquivo:\n",
      "\n",
      "Números de linhas no arquivo:  3\n"
     ]
    }
   ],
   "source": [
    "# Contar linhas do arquivo\n",
    "\n",
    "print('\\nContando o números de linhas no arquivo:\\n')\n",
    "arq = open('teste.txt','r')\n",
    "contador = 0\n",
    "for linha in arq:\n",
    "    contador +=1\n",
    "print('Números de linhas no arquivo: ', contador)\n",
    "arq.close()           "
   ]
  },
  {
   "cell_type": "code",
   "execution_count": 24,
   "id": "51c8bb23",
   "metadata": {},
   "outputs": [
    {
     "name": "stdout",
     "output_type": "stream",
     "text": [
      "hello word\n",
      "\n",
      "A string foi encontrada.\n"
     ]
    }
   ],
   "source": [
    "# Procurar strings dentro do arquivo\n",
    "\n",
    "arq = open('teste.txt')\n",
    "for linha in arq:\n",
    "    linha = linha.rstrip()\n",
    "    if 'hello' in linha:\n",
    "        print(linha)\n",
    "        print('\\nA string foi encontrada.')\n",
    "    \n",
    "arq.close()"
   ]
  },
  {
   "cell_type": "code",
   "execution_count": 28,
   "id": "3e17501b",
   "metadata": {},
   "outputs": [],
   "source": [
    "# Escrever em um arquivo de texto.\n",
    "# Esse modo substitui o arquivo criado.\n",
    "arquivo = open('teste.txt','w')\n",
    "\n",
    "arquivo.write(\"Esse aruivo esta sendo substituido.\\n\")\n",
    "arquivo.write(\"Criando um arquivo de texto com Python\\n\")\n",
    "arquivo.write(\"Arquivo criado por Paulo Rodrigues\\n\")\n",
    "\n",
    "\n",
    "arquivo.close()"
   ]
  },
  {
   "cell_type": "code",
   "execution_count": 33,
   "id": "67010435",
   "metadata": {},
   "outputs": [
    {
     "name": "stdout",
     "output_type": "stream",
     "text": [
      "Esse aruivo esta sendo substituido.Criando um arquivo de texto com Python\n",
      "Arquivo criado por Paulo Rodrigues\n",
      "Essa linha foi acrescentada com o aEssa linha foi acrescentada com o a\n",
      "Essa linha foi acrescentada com o a\n"
     ]
    }
   ],
   "source": [
    "# Acrescentar conteúdo a um arquivo existente\n",
    "\n",
    "arquivo = open('teste.txt','a')\n",
    "arquivo.write('Essa linha foi acrescentada com o a\\n')\n",
    "arquivo.close()\n",
    "\n",
    "arquivo = open('teste.txt')\n",
    "for linha in arquivo:\n",
    "    linha = linha.rstrip()\n",
    "    print(linha)\n",
    "arquivo.close()"
   ]
  },
  {
   "cell_type": "code",
   "execution_count": 2,
   "id": "724c17ee",
   "metadata": {},
   "outputs": [
    {
     "ename": "ModuleNotFoundError",
     "evalue": "No module named 'pandas'",
     "output_type": "error",
     "traceback": [
      "\u001b[1;31m---------------------------------------------------------------------------\u001b[0m",
      "\u001b[1;31mModuleNotFoundError\u001b[0m                       Traceback (most recent call last)",
      "Cell \u001b[1;32mIn[2], line 1\u001b[0m\n\u001b[1;32m----> 1\u001b[0m \u001b[38;5;28;01mimport\u001b[39;00m \u001b[38;5;21;01mpandas\u001b[39;00m \u001b[38;5;28;01mas\u001b[39;00m \u001b[38;5;21;01mpd\u001b[39;00m\n\u001b[0;32m      2\u001b[0m sensor \u001b[38;5;241m=\u001b[39m pd\u001b[38;5;241m.\u001b[39mread_csv(\u001b[38;5;124m\"\u001b[39m\u001b[38;5;124mdados_sensor_02.csv\u001b[39m\u001b[38;5;124m\"\u001b[39m, sep\u001b[38;5;241m=\u001b[39m\u001b[38;5;124m\"\u001b[39m\u001b[38;5;124m,\u001b[39m\u001b[38;5;124m\"\u001b[39m)\n\u001b[0;32m      3\u001b[0m display(sensor)\n",
      "\u001b[1;31mModuleNotFoundError\u001b[0m: No module named 'pandas'"
     ]
    }
   ],
   "source": []
  },
  {
   "cell_type": "code",
   "execution_count": null,
   "id": "c716b2b2",
   "metadata": {},
   "outputs": [],
   "source": []
  },
  {
   "cell_type": "code",
   "execution_count": null,
   "id": "3a4af228",
   "metadata": {},
   "outputs": [],
   "source": []
  }
 ],
 "metadata": {
  "kernelspec": {
   "display_name": "Python 3 (ipykernel)",
   "language": "python",
   "name": "python3"
  },
  "language_info": {
   "codemirror_mode": {
    "name": "ipython",
    "version": 3
   },
   "file_extension": ".py",
   "mimetype": "text/x-python",
   "name": "python",
   "nbconvert_exporter": "python",
   "pygments_lexer": "ipython3",
   "version": "3.10.9"
  }
 },
 "nbformat": 4,
 "nbformat_minor": 5
}
